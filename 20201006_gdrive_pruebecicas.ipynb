{
  "nbformat": 4,
  "nbformat_minor": 0,
  "metadata": {
    "colab": {
      "name": "20201006-gdrive-pruebecicas.ipynb",
      "provenance": [],
      "authorship_tag": "ABX9TyMATKTmtOG7cjwnwMa8ITa4",
      "include_colab_link": true
    },
    "kernelspec": {
      "name": "python3",
      "display_name": "Python 3"
    }
  },
  "cells": [
    {
      "cell_type": "markdown",
      "metadata": {
        "id": "view-in-github",
        "colab_type": "text"
      },
      "source": [
        "<a href=\"https://colab.research.google.com/github/acoxonante/20160906-repo/blob/master/20201006_gdrive_pruebecicas.ipynb\" target=\"_parent\"><img src=\"https://colab.research.google.com/assets/colab-badge.svg\" alt=\"Open In Colab\"/></a>"
      ]
    },
    {
      "cell_type": "code",
      "metadata": {
        "id": "Urkj4Z4Jfwb3",
        "outputId": "95561d3e-e02c-48bf-b205-64a3158f1e8c",
        "colab": {
          "base_uri": "https://localhost:8080/",
          "height": 35
        }
      },
      "source": [
        "import os\n",
        "from google.colab import drive\n",
        "drive.mount('/content/gdrive')"
      ],
      "execution_count": 1,
      "outputs": [
        {
          "output_type": "stream",
          "text": [
            "Mounted at /content/gdrive\n"
          ],
          "name": "stdout"
        }
      ]
    },
    {
      "cell_type": "code",
      "metadata": {
        "id": "45HYEXKxKWp5"
      },
      "source": [
        "from pydrive.auth import GoogleAuth\n",
        "from pydrive.drive import GoogleDrive\n",
        "from google.colab import auth\n",
        "from oauth2client.client import GoogleCredentials\n",
        "auth.authenticate_user()\n",
        "gauth = GoogleAuth()\n",
        "gauth.credentials = GoogleCredentials.get_application_default()\n",
        "Drive = GoogleDrive(gauth)\n",
        "#https://drive.google.com/file/d/1QYjj96bekvgfiMSepR7YcJOSlXa2HIcv/view?usp=sharing\n",
        "t1 = Drive.CreateFile({'id': '1I2LPZCqMXY-3TYnDG-jlgTVrfBhJMgcG'})\n",
        "t1.GetContentFile('address.csv')\n",
        "!ls\n",
        "direcciones = pd.read_csv('address.csv')"
      ],
      "execution_count": null,
      "outputs": []
    },
    {
      "cell_type": "code",
      "metadata": {
        "id": "yOhdYSNegFtB",
        "outputId": "ebc06082-f70e-4a80-c015-ab938454edb2",
        "colab": {
          "base_uri": "https://localhost:8080/",
          "height": 35
        }
      },
      "source": [
        "!ls"
      ],
      "execution_count": null,
      "outputs": [
        {
          "output_type": "stream",
          "text": [
            "gdrive\tsample_data\n"
          ],
          "name": "stdout"
        }
      ]
    },
    {
      "cell_type": "code",
      "metadata": {
        "id": "1_ue4Lx8mMHI",
        "outputId": "42f48696-5b2f-49a5-ac87-58b4219d33cb",
        "colab": {
          "base_uri": "https://localhost:8080/",
          "height": 35
        }
      },
      "source": [
        "!pwd"
      ],
      "execution_count": null,
      "outputs": [
        {
          "output_type": "stream",
          "text": [
            "/content\n"
          ],
          "name": "stdout"
        }
      ]
    },
    {
      "cell_type": "code",
      "metadata": {
        "id": "UKYLORoenURL"
      },
      "source": [
        "#creation of a directory in the relative path\n",
        "if not os.path.exists('test'):\n",
        "    os.makedirs('test')\n",
        "\n",
        "# this is to create a directory \n",
        "#os.mkdir ('/content/gdrive/My Drive/test')"
      ],
      "execution_count": null,
      "outputs": []
    },
    {
      "cell_type": "code",
      "metadata": {
        "id": "g_VYB0J_15F4"
      },
      "source": [
        "# to delete a directory that is not empty\n",
        "import shutil\n",
        "shutil.rmtree(\"test\")"
      ],
      "execution_count": null,
      "outputs": []
    },
    {
      "cell_type": "code",
      "metadata": {
        "id": "G4SEDU5snmyl"
      },
      "source": [
        "# this is to delete a directory (no files inside)\n",
        "os.rmdir('/content/gdrive/My Drive/test')"
      ],
      "execution_count": null,
      "outputs": []
    },
    {
      "cell_type": "code",
      "metadata": {
        "id": "hVnt4hiNnB0L"
      },
      "source": [
        "# this is to change the directory\n",
        "os.chdir('/content/gdrive/My Drive/test')"
      ],
      "execution_count": null,
      "outputs": []
    },
    {
      "cell_type": "code",
      "metadata": {
        "id": "01vMf76qfyDB",
        "outputId": "0ba063d8-9c1f-4e92-d838-0b5b4a85aa42",
        "colab": {
          "base_uri": "https://localhost:8080/",
          "height": 35
        }
      },
      "source": [
        "!pwd\n"
      ],
      "execution_count": null,
      "outputs": [
        {
          "output_type": "stream",
          "text": [
            "/content/gdrive/My Drive/test\n"
          ],
          "name": "stdout"
        }
      ]
    },
    {
      "cell_type": "code",
      "metadata": {
        "id": "YwmDa-oG_18e",
        "outputId": "ddda2495-a696-41fa-c700-d5fb9ec544da",
        "colab": {
          "base_uri": "https://localhost:8080/",
          "height": 35
        }
      },
      "source": [
        "# this is to get the current directory\n",
        "os. getcwd()"
      ],
      "execution_count": null,
      "outputs": [
        {
          "output_type": "execute_result",
          "data": {
            "application/vnd.google.colaboratory.intrinsic+json": {
              "type": "string"
            },
            "text/plain": [
              "'/content'"
            ]
          },
          "metadata": {
            "tags": []
          },
          "execution_count": 5
        }
      ]
    },
    {
      "cell_type": "code",
      "metadata": {
        "id": "uq9Iw418BpLh",
        "outputId": "9b28be2a-daaa-460d-97be-eca9c4d7c6d9",
        "colab": {
          "base_uri": "https://localhost:8080/",
          "height": 190
        }
      },
      "source": [
        "path = os. getcwd()\n",
        "print(path)\n"
      ],
      "execution_count": null,
      "outputs": [
        {
          "output_type": "error",
          "ename": "NameError",
          "evalue": "ignored",
          "traceback": [
            "\u001b[0;31m---------------------------------------------------------------------------\u001b[0m",
            "\u001b[0;31mNameError\u001b[0m                                 Traceback (most recent call last)",
            "\u001b[0;32m<ipython-input-1-3ea8031d2e1b>\u001b[0m in \u001b[0;36m<module>\u001b[0;34m()\u001b[0m\n\u001b[0;32m----> 1\u001b[0;31m \u001b[0mpath\u001b[0m \u001b[0;34m=\u001b[0m \u001b[0mos\u001b[0m\u001b[0;34m.\u001b[0m \u001b[0mgetcwd\u001b[0m\u001b[0;34m(\u001b[0m\u001b[0;34m)\u001b[0m\u001b[0;34m\u001b[0m\u001b[0;34m\u001b[0m\u001b[0m\n\u001b[0m\u001b[1;32m      2\u001b[0m \u001b[0mprint\u001b[0m\u001b[0;34m(\u001b[0m\u001b[0mpath\u001b[0m\u001b[0;34m)\u001b[0m\u001b[0;34m\u001b[0m\u001b[0;34m\u001b[0m\u001b[0m\n",
            "\u001b[0;31mNameError\u001b[0m: name 'os' is not defined"
          ]
        }
      ]
    },
    {
      "cell_type": "code",
      "metadata": {
        "id": "ZrnqRJzkf3V2"
      },
      "source": [
        "# this is to create the file\n",
        "filename = 'test.txt'\n",
        "if not os.path.exists(filename):\n",
        "    open(filename, 'w').close()\n",
        "\n",
        "# this is to delete the file \n",
        "os.remove(\"test.txt\")"
      ],
      "execution_count": null,
      "outputs": []
    },
    {
      "cell_type": "code",
      "metadata": {
        "id": "Mz2zoDEYg9rE"
      },
      "source": [
        "# this is like a recursive ls/dir\n",
        "list(os.walk('/content/gdrive/My Drive'))\n"
      ],
      "execution_count": null,
      "outputs": []
    },
    {
      "cell_type": "code",
      "metadata": {
        "id": "eayY_cgvirFQ"
      },
      "source": [
        "# this is a ls/dir instruction \n",
        "os.listdir('/content/gdrive/My Drive')\n"
      ],
      "execution_count": null,
      "outputs": []
    },
    {
      "cell_type": "code",
      "metadata": {
        "id": "--ti2YMKkrJx",
        "outputId": "f8d88747-0ec3-40ae-e91c-dbf418bf5a29",
        "colab": {
          "base_uri": "https://localhost:8080/",
          "height": 89
        }
      },
      "source": [
        "# this is to change the directory\n",
        "os.chdir(\"/content/gdrive/My Drive\")\n",
        "!ls"
      ],
      "execution_count": null,
      "outputs": [
        {
          "output_type": "stream",
          "text": [
            " 20201008-admin\t\t   20201008-Oldies     20201008-work\n",
            " 20201008-Development\t   20201008-other      colab-data\n",
            " 20201008-Frankfurt\t   20201008-PhD       'Colab Notebooks'\n",
            " 20201008-Keep-Notebooks   20201008-Pictures\n"
          ],
          "name": "stdout"
        }
      ]
    }
  ]
}